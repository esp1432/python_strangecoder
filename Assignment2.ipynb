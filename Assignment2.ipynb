{
  "nbformat": 4,
  "nbformat_minor": 0,
  "metadata": {
    "colab": {
      "provenance": []
    },
    "kernelspec": {
      "name": "python3",
      "display_name": "Python 3"
    },
    "language_info": {
      "name": "python"
    }
  },
  "cells": [
    {
      "cell_type": "code",
      "execution_count": 4,
      "metadata": {
        "colab": {
          "base_uri": "https://localhost:8080/"
        },
        "id": "HIe8xQI7wVFm",
        "outputId": "894a14be-f22a-4077-9245-d85c86a0e064"
      },
      "outputs": [
        {
          "output_type": "stream",
          "name": "stdout",
          "text": [
            "Enter first number: 100\n",
            "Enter second number: 100\n",
            "Product of the two numbers is 10000 \n"
          ]
        }
      ],
      "source": [
        "#Given two integer numbers return their product only if the product is greater than 1000, else return their sum.\n",
        "\n",
        "n1=int(input(\"Enter first number: \"))\n",
        "n2=int(input(\"Enter second number: \"))\n",
        "if ((n1*n2)>1000):\n",
        "  print(\"Product of the two numbers is {} \".format(n1*n2))\n",
        "else:\n",
        "  print(\"Sum of the two numbers is {} \".format(n1+n2))"
      ]
    },
    {
      "cell_type": "code",
      "source": [
        "#Write a python program which will print True if the input number is divisible by 5 or else False.\n",
        "\n",
        "num=int(input(\"Enter a number: \"))\n",
        "if num%5==0:\n",
        "  print(\"True\")\n",
        "else:\n",
        "  print(\"False\")"
      ],
      "metadata": {
        "colab": {
          "base_uri": "https://localhost:8080/"
        },
        "id": "UrvRFzJA5PGR",
        "outputId": "9883fcf0-89c5-47f8-e5d7-e07ab7dcff5a"
      },
      "execution_count": 6,
      "outputs": [
        {
          "output_type": "stream",
          "name": "stdout",
          "text": [
            "Enter a number: 23\n",
            "False\n"
          ]
        }
      ]
    },
    {
      "cell_type": "code",
      "source": [
        "#Write a program to accept two numbers from the user and calculate multiplication, division\n",
        "\n",
        "n1=float(input(\"Enter a number1: \"))\n",
        "symbol=input(\"Enter * or /: \")\n",
        "n2=float(input(\"Enter another number2: \"))\n",
        "if symbol=='*':\n",
        "  print(\"{}*{}={}\".format(n1,n2,n1*n2))\n",
        "elif symbol=='/':\n",
        "  print(\"{}/{}={}\".format(n1,n2,n1/n2))\n",
        "else:\n",
        "  print(\"invalid symbol\")"
      ],
      "metadata": {
        "colab": {
          "base_uri": "https://localhost:8080/"
        },
        "id": "bhASfmu75qy9",
        "outputId": "22106836-0c4d-4b87-cee4-4be88d7c593d"
      },
      "execution_count": 11,
      "outputs": [
        {
          "output_type": "stream",
          "name": "stdout",
          "text": [
            "Enter a number1: 60\n",
            "Enter * or /: +\n",
            "Enter another number2: 6\n",
            "invalid symbol\n"
          ]
        }
      ]
    },
    {
      "cell_type": "code",
      "source": [
        "#Create a dynamic calculator which asks for numbers and operator and return the answers.\n",
        "\n",
        "n1=float(input(\"enter 1st number\"))\n",
        "symbol=input(\"enter a arthimatic operator\")\n",
        "n2=float(input(\"enter 2nd number\"))\n",
        "\n",
        "if symbol==\"+\":\n",
        "  print(\"{}+{}={}\".format(n1,n2,n1+n2))\n",
        "elif symbol==\"-\":\n",
        "  print(\"{}-{}={}\".format(n1,n2,n1-n2))\n",
        "elif symbol==\"*\":\n",
        "  print(\"{}*{}={}\".format(n1,n2,n1*n2))\n",
        "elif symbol==\"/\":\n",
        "  print(\"{}/{}={}\".format(n1,n2,n1/n2))\n",
        "elif symbol==\"%\":\n",
        "  print(\"{}%{}={}\".format(n1,n2,n1%n2))\n",
        "elif symbol==\"**\":\n",
        "  print(\"{}**{}={}\".format(n1,n2,n1**n2))\n",
        "else:\n",
        "  print(\"invalid input\")"
      ],
      "metadata": {
        "colab": {
          "base_uri": "https://localhost:8080/"
        },
        "id": "SGoVW6bhCuj2",
        "outputId": "a166499a-4bea-4132-a089-65827b894d0e"
      },
      "execution_count": 12,
      "outputs": [
        {
          "output_type": "stream",
          "name": "stdout",
          "text": [
            "enter 1st number10\n",
            "enter a arthimatic operator%\n",
            "enter 2nd number2\n",
            "10.0%2.0=0.0\n"
          ]
        }
      ]
    },
    {
      "cell_type": "code",
      "source": [
        "#Write a python program to convert all even indexed characters to uppercase and odd indexed characters to lowercase.\n",
        "x=input(\"Enter any string: \")\n",
        "y=0\n",
        "var=\"\"\n",
        "while y<len(x):\n",
        "  if y%2==0:\n",
        "    var=var+x[y].upper()\n",
        "  else:\n",
        "    var=var+x[y].lower()\n",
        "  y=y+1\n",
        "print(var)"
      ],
      "metadata": {
        "colab": {
          "base_uri": "https://localhost:8080/"
        },
        "id": "-nL3rCw8DLsa",
        "outputId": "ef6d0d97-1ef2-4622-b238-bca5777cd09a"
      },
      "execution_count": 15,
      "outputs": [
        {
          "output_type": "stream",
          "name": "stdout",
          "text": [
            "Enter any string: ghgdti\n",
            "GhGdTi\n"
          ]
        }
      ]
    },
    {
      "cell_type": "code",
      "source": [
        "#Write a python program that accepts two inputs num1 and num2 print True if one of them is 10 or if their sum is 10 otherwise print False.\n",
        "n1=int(input(\"Enter first number: \"))\n",
        "n2=int(input(\"Enter second number: \"))\n",
        "if n1==10 or n2==10 or n1+n2==10:\n",
        "  print('True')\n",
        "else:\n",
        "  print('False')"
      ],
      "metadata": {
        "colab": {
          "base_uri": "https://localhost:8080/"
        },
        "id": "hNZwqHakExRD",
        "outputId": "8089ef9d-faa7-4eab-e650-9ca5667dcdad"
      },
      "execution_count": 17,
      "outputs": [
        {
          "output_type": "stream",
          "name": "stdout",
          "text": [
            "Enter first number: 2\n",
            "Enter second number: 8\n",
            "True\n"
          ]
        }
      ]
    },
    {
      "cell_type": "code",
      "source": [
        "#Write a python program that accepts three inputs x, y and z print True if x*y>z otherwise False.\n",
        "a=int(input(\"Enter first number: \"))\n",
        "b=int(input(\"Enter second number: \"))\n",
        "c=int(input(\"Enter third number: \"))\n",
        "if a*b>c:\n",
        "  print(\"True\")\n",
        "else:\n",
        "  print(\"False\")"
      ],
      "metadata": {
        "colab": {
          "base_uri": "https://localhost:8080/"
        },
        "id": "241FvGUxFnTg",
        "outputId": "6cb85e9c-4d27-425e-ee04-531e58f56eb0"
      },
      "execution_count": 20,
      "outputs": [
        {
          "output_type": "stream",
          "name": "stdout",
          "text": [
            "Enter first number: 1\n",
            "Enter second number: 4\n",
            "Enter third number: 8\n",
            "False\n"
          ]
        }
      ]
    },
    {
      "cell_type": "code",
      "source": [
        "#Write a python program that accepts two strings inputs return True depending on whether the total number of characters in the first string is equal to the total number of characters in the second string.\n",
        "s1=input(\"Enter first string:\")\n",
        "s2=input(\"Enter second string: \")\n",
        "if len(s1)==len(s2):\n",
        "  print('True')\n",
        "else:\n",
        "  print('False')"
      ],
      "metadata": {
        "colab": {
          "base_uri": "https://localhost:8080/"
        },
        "id": "LFE2Y1TGGQwy",
        "outputId": "4bcbbee3-0aa9-409b-fe96-a0bd1e3d238a"
      },
      "execution_count": 21,
      "outputs": [
        {
          "output_type": "stream",
          "name": "stdout",
          "text": [
            "Enter first string:abc\n",
            "Enter second string: xyz\n",
            "True\n"
          ]
        }
      ]
    },
    {
      "cell_type": "code",
      "source": [
        "#Write a python program that takes in a word and determines whether or not it is plural. A plural word is one that ends in \"s\".\n",
        "str=input(\"Enter any word: \")\n",
        "if str[-1]=='s':\n",
        "  print('plural word')\n",
        "else:\n",
        "  print('not plural word')"
      ],
      "metadata": {
        "colab": {
          "base_uri": "https://localhost:8080/"
        },
        "id": "GYUqYlAKHCWR",
        "outputId": "c85624b3-5be1-4885-f673-164fb224f85e"
      },
      "execution_count": 23,
      "outputs": [
        {
          "output_type": "stream",
          "name": "stdout",
          "text": [
            "Enter any word: eggs\n",
            "plural word\n"
          ]
        }
      ]
    }
  ]
}
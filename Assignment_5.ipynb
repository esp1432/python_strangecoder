{
  "nbformat": 4,
  "nbformat_minor": 0,
  "metadata": {
    "colab": {
      "provenance": []
    },
    "kernelspec": {
      "name": "python3",
      "display_name": "Python 3"
    },
    "language_info": {
      "name": "python"
    }
  },
  "cells": [
    {
      "cell_type": "code",
      "execution_count": 1,
      "metadata": {
        "colab": {
          "base_uri": "https://localhost:8080/"
        },
        "id": "YsLTBAQ2xu_A",
        "outputId": "daf61bf4-ed6d-49eb-c74f-a81229007c32"
      },
      "outputs": [
        {
          "output_type": "stream",
          "name": "stdout",
          "text": [
            "* * * *\n",
            "*     *\n",
            "* * * *\n",
            "*     *\n",
            "*     *\n"
          ]
        }
      ],
      "source": [
        "for y in range(0,5):\n",
        "  if y==0:\n",
        "    print(\"* * * *\")\n",
        "  elif y==1 or y==3 or y==4:\n",
        "    print(\"*     *\")\n",
        "  else:\n",
        "    print(\"* * * *\")"
      ]
    },
    {
      "cell_type": "code",
      "source": [
        "for y in range(0,5):\n",
        "  if y==0 or y==2 or y==4:\n",
        "    print(\"* * *\")\n",
        "  else:\n",
        "    print(\"*     *\")"
      ],
      "metadata": {
        "colab": {
          "base_uri": "https://localhost:8080/"
        },
        "id": "Rj3odETbNDsk",
        "outputId": "58addcf4-5b19-4677-bc70-c3290573bc9c"
      },
      "execution_count": 2,
      "outputs": [
        {
          "output_type": "stream",
          "name": "stdout",
          "text": [
            "* * *\n",
            "*     *\n",
            "* * *\n",
            "*     *\n",
            "* * *\n"
          ]
        }
      ]
    },
    {
      "cell_type": "code",
      "source": [
        "for y in range(0,5):\n",
        "  if y==0 or y==4:\n",
        "    print(\"* * * *\")\n",
        "  else:\n",
        "    print(\"*      \")"
      ],
      "metadata": {
        "colab": {
          "base_uri": "https://localhost:8080/"
        },
        "id": "vij5ta79NHqm",
        "outputId": "7e9e6b26-3a3d-4690-beb4-0c765b0028b3"
      },
      "execution_count": 3,
      "outputs": [
        {
          "output_type": "stream",
          "name": "stdout",
          "text": [
            "* * * *\n",
            "*      \n",
            "*      \n",
            "*      \n",
            "* * * *\n"
          ]
        }
      ]
    },
    {
      "cell_type": "code",
      "source": [
        "for y in range(0,5):\n",
        "  if y==0 or y==4:\n",
        "    print(\"* *\")\n",
        "  elif y==1 or y==3:\n",
        "    print(\"*   *\")\n",
        "  else:\n",
        "    print(\"*    *\")"
      ],
      "metadata": {
        "colab": {
          "base_uri": "https://localhost:8080/"
        },
        "id": "6y-vN17dQGwx",
        "outputId": "e6b60d2d-d158-4085-d583-9435723a9e1a"
      },
      "execution_count": 7,
      "outputs": [
        {
          "output_type": "stream",
          "name": "stdout",
          "text": [
            "* *\n",
            "*   *\n",
            "*    *\n",
            "*   *\n",
            "* *\n"
          ]
        }
      ]
    },
    {
      "cell_type": "code",
      "source": [
        "for y in range(0,5):\n",
        "  if y==0 or y==4:\n",
        "    print(\"* * *\")\n",
        "  elif y==1 or y==3:\n",
        "    print(\"*\")\n",
        "  else:\n",
        "    print(\"* *\")"
      ],
      "metadata": {
        "colab": {
          "base_uri": "https://localhost:8080/"
        },
        "id": "9qU7xK0AS1bI",
        "outputId": "af092647-f965-4c3b-9091-5099fff8f16e"
      },
      "execution_count": 8,
      "outputs": [
        {
          "output_type": "stream",
          "name": "stdout",
          "text": [
            "* * *\n",
            "*\n",
            "* *\n",
            "*\n",
            "* * *\n"
          ]
        }
      ]
    },
    {
      "cell_type": "code",
      "source": [
        "for y in range(0,5):\n",
        "  if y==0 :\n",
        "    print(\"* * *\")\n",
        "  elif y==2:\n",
        "    print(\"* *\")\n",
        "  else:\n",
        "    print(\"*\")"
      ],
      "metadata": {
        "colab": {
          "base_uri": "https://localhost:8080/"
        },
        "id": "BnHVzIMmT5P5",
        "outputId": "e25c6fa4-81c9-4787-df14-c61075c4b5ec"
      },
      "execution_count": 11,
      "outputs": [
        {
          "output_type": "stream",
          "name": "stdout",
          "text": [
            "* * *\n",
            "*\n",
            "* *\n",
            "*\n",
            "*\n"
          ]
        }
      ]
    },
    {
      "cell_type": "code",
      "source": [
        "for y in range(0,5):\n",
        "  if y==0 :\n",
        "    print(\"* * *\")\n",
        "  elif y==3:\n",
        "    print(\"*   *  *\")\n",
        "  elif y==4:\n",
        "    print(\"* * *  *\")\n",
        "  else:\n",
        "    print(\"*\")"
      ],
      "metadata": {
        "colab": {
          "base_uri": "https://localhost:8080/"
        },
        "id": "hSsgkfVkUQvY",
        "outputId": "e475094e-96b9-4727-d2c9-827163089d72"
      },
      "execution_count": 14,
      "outputs": [
        {
          "output_type": "stream",
          "name": "stdout",
          "text": [
            "* * *\n",
            "*\n",
            "*\n",
            "*   *  *\n",
            "* * *  *\n"
          ]
        }
      ]
    },
    {
      "cell_type": "code",
      "source": [
        "for y in range(0,5):\n",
        "  if y==0 or y==1 or y==3 or y==4:\n",
        "    print(\"*   *\")\n",
        "  else:\n",
        "    print(\"* * *\")"
      ],
      "metadata": {
        "colab": {
          "base_uri": "https://localhost:8080/"
        },
        "id": "wTN0q3h3VVvy",
        "outputId": "b214c0fc-d555-4c84-b8af-fc1684d02b0e"
      },
      "execution_count": 15,
      "outputs": [
        {
          "output_type": "stream",
          "name": "stdout",
          "text": [
            "*   *\n",
            "*   *\n",
            "* * *\n",
            "*   *\n",
            "*   *\n"
          ]
        }
      ]
    },
    {
      "cell_type": "code",
      "source": [
        "for y in range(0,5):\n",
        "  if y==0 or y==1 or y==2 or y==3 or y==4:\n",
        "    print(\"*\")\n",
        ""
      ],
      "metadata": {
        "colab": {
          "base_uri": "https://localhost:8080/"
        },
        "id": "9BAb9IAEVvkY",
        "outputId": "f8085673-2658-450d-84e2-dbf572569f67"
      },
      "execution_count": 16,
      "outputs": [
        {
          "output_type": "stream",
          "name": "stdout",
          "text": [
            "*\n",
            "*\n",
            "*\n",
            "*\n",
            "*\n"
          ]
        }
      ]
    },
    {
      "cell_type": "code",
      "source": [
        "for y in range(0,5):\n",
        "  if y==0 :\n",
        "    print(\"* * *\")\n",
        "  elif y==1 or y==2:\n",
        "    print(\"  *  \")\n",
        "  else:\n",
        "    print(\"* *\")"
      ],
      "metadata": {
        "colab": {
          "base_uri": "https://localhost:8080/"
        },
        "id": "tJwEj7rcWDfO",
        "outputId": "5d7ee6a0-aa0a-4979-f942-6b2001bcdfc2"
      },
      "execution_count": 17,
      "outputs": [
        {
          "output_type": "stream",
          "name": "stdout",
          "text": [
            "* * *\n",
            "  *  \n",
            "  *  \n",
            "* *\n",
            "* *\n"
          ]
        }
      ]
    },
    {
      "cell_type": "code",
      "source": [
        "for y in range(0,5):\n",
        "  if y==2:\n",
        "    print(\"* *\")\n",
        "  elif y==1 or y==3:\n",
        "    print(\"*   *\")\n",
        "  else:\n",
        "    print(\"*     *\")"
      ],
      "metadata": {
        "colab": {
          "base_uri": "https://localhost:8080/"
        },
        "id": "FHNDNvA8YlUx",
        "outputId": "f4d8542c-af87-442e-baa3-8ee19c84830f"
      },
      "execution_count": 19,
      "outputs": [
        {
          "output_type": "stream",
          "name": "stdout",
          "text": [
            "*     *\n",
            "*   *\n",
            "* *\n",
            "*   *\n",
            "*     *\n"
          ]
        }
      ]
    },
    {
      "cell_type": "code",
      "source": [
        "for y in range(0,5):\n",
        "  if y==0 or y==1 or y==2 or y==3:\n",
        "    print(\"*\")\n",
        "  else:\n",
        "    print(\"* * *\")"
      ],
      "metadata": {
        "colab": {
          "base_uri": "https://localhost:8080/"
        },
        "id": "hd8HiLWmdNuI",
        "outputId": "75f73cd6-2160-45b5-eb5f-c23d5d4eec2a"
      },
      "execution_count": 20,
      "outputs": [
        {
          "output_type": "stream",
          "name": "stdout",
          "text": [
            "*\n",
            "*\n",
            "*\n",
            "*\n",
            "* * *\n"
          ]
        }
      ]
    },
    {
      "cell_type": "code",
      "source": [
        "for y in range(0,5):\n",
        "  if y==1:\n",
        "    print(\"  *   *   \")\n",
        "  elif y==2:\n",
        "    print(\"    *    \")\n",
        "  elif y==3:\n",
        "    print(\" *      *\")\n",
        "  elif y==0:\n",
        "    print(\"        \")\n",
        "  else:\n",
        "    print(\"*        *\")"
      ],
      "metadata": {
        "colab": {
          "base_uri": "https://localhost:8080/"
        },
        "id": "8aPKGnB9fG5T",
        "outputId": "6efc5307-282f-4ff6-89ef-3fd10d3451c5"
      },
      "execution_count": 36,
      "outputs": [
        {
          "output_type": "stream",
          "name": "stdout",
          "text": [
            "        \n",
            "  *   *   \n",
            "    *    \n",
            " *      *\n",
            "*        *\n"
          ]
        }
      ]
    },
    {
      "cell_type": "code",
      "source": [
        "for y in range(0,5):\n",
        "  if y==0 or y==1 or y==3 or y==4:\n",
        "    print(\"*   *\")\n",
        "  else:\n",
        "    print(\"* * *\")\n",
        ""
      ],
      "metadata": {
        "colab": {
          "base_uri": "https://localhost:8080/"
        },
        "id": "AEQBGdbpgqkO",
        "outputId": "dff38c50-f296-4da7-ba7b-2badc9c7e881"
      },
      "execution_count": 37,
      "outputs": [
        {
          "output_type": "stream",
          "name": "stdout",
          "text": [
            "*   *\n",
            "*   *\n",
            "* * *\n",
            "*   *\n",
            "*   *\n"
          ]
        }
      ]
    },
    {
      "cell_type": "code",
      "source": [
        "for y in range(0,5):\n",
        "  if y==0 or y==4:\n",
        "    print(\"* * *\")\n",
        "  else:\n",
        "    print(\"*   *\")"
      ],
      "metadata": {
        "colab": {
          "base_uri": "https://localhost:8080/"
        },
        "id": "uiApyyp-nwo-",
        "outputId": "cf77f161-9e6f-46f2-e0dd-97584f0ccae3"
      },
      "execution_count": 40,
      "outputs": [
        {
          "output_type": "stream",
          "name": "stdout",
          "text": [
            "* * *\n",
            "*   *\n",
            "*   *\n",
            "*   *\n",
            "* * *\n"
          ]
        }
      ]
    },
    {
      "cell_type": "code",
      "source": [
        "for y in range(0,5):\n",
        "  if y==0 or y==2:\n",
        "    print(\"* * *\")\n",
        "  elif y==1:\n",
        "    print(\"*   *\")\n",
        "  else:\n",
        "    print(\"*\")"
      ],
      "metadata": {
        "colab": {
          "base_uri": "https://localhost:8080/"
        },
        "id": "dP7d1aZlyMDG",
        "outputId": "952913d0-da91-4d8b-e0a9-c38d9f81ab10"
      },
      "execution_count": 44,
      "outputs": [
        {
          "output_type": "stream",
          "name": "stdout",
          "text": [
            "* * *\n",
            "*   *\n",
            "* * *\n",
            "*\n",
            "*\n"
          ]
        }
      ]
    },
    {
      "cell_type": "code",
      "source": [
        "for y in range(0,5):\n",
        "  if y==0 or y==2 or y==3:\n",
        "    print(\"* * *\")\n",
        "  elif y==1 :\n",
        "    print(\"*   *\")\n",
        "  else:\n",
        "    print(\"      *\")"
      ],
      "metadata": {
        "colab": {
          "base_uri": "https://localhost:8080/"
        },
        "id": "-t84T5i1y5YX",
        "outputId": "aa2dcd65-a2ca-4891-c18a-e3015be6ff5d"
      },
      "execution_count": 49,
      "outputs": [
        {
          "output_type": "stream",
          "name": "stdout",
          "text": [
            "* * *\n",
            "*   *\n",
            "* * *\n",
            "* * *\n",
            "      *\n"
          ]
        }
      ]
    },
    {
      "cell_type": "code",
      "source": [
        "for y in range(0,5):\n",
        "  if y==0 or y==2:\n",
        "    print(\"* * *\")\n",
        "  elif y==1:\n",
        "    print(\"*   *\")\n",
        "  elif y==3:\n",
        "    print(\"*  *\")"
      ],
      "metadata": {
        "colab": {
          "base_uri": "https://localhost:8080/"
        },
        "id": "sMZch9Yfz06s",
        "outputId": "7889c117-742e-41a9-fd70-1c1c2e8a4ddb"
      },
      "execution_count": 54,
      "outputs": [
        {
          "output_type": "stream",
          "name": "stdout",
          "text": [
            "* * *\n",
            "*   *\n",
            "* * *\n",
            "*  *\n"
          ]
        }
      ]
    },
    {
      "cell_type": "code",
      "source": [
        "for y in range(0,5):\n",
        "  if y==0 or y==2 or y==4:\n",
        "    print(\"* * *\")\n",
        "  elif y==1:\n",
        "    print(\"*\")\n",
        "  else:\n",
        "    print(\"    *\")"
      ],
      "metadata": {
        "colab": {
          "base_uri": "https://localhost:8080/"
        },
        "id": "1TB5Yos80dbb",
        "outputId": "a51c1e58-9dbd-4b6d-874d-a88fd1ddd4ed"
      },
      "execution_count": 55,
      "outputs": [
        {
          "output_type": "stream",
          "name": "stdout",
          "text": [
            "* * *\n",
            "*\n",
            "* * *\n",
            "    *\n",
            "* * *\n"
          ]
        }
      ]
    },
    {
      "cell_type": "code",
      "source": [
        "for y in range(0,5):\n",
        "  if y==0:\n",
        "    print(\"* * *\")\n",
        "  else:\n",
        "    print(\"  *  \")"
      ],
      "metadata": {
        "colab": {
          "base_uri": "https://localhost:8080/"
        },
        "id": "-14h9NE311oa",
        "outputId": "f37a384b-76bd-4110-acf5-fd6d5511078e"
      },
      "execution_count": 56,
      "outputs": [
        {
          "output_type": "stream",
          "name": "stdout",
          "text": [
            "* * *\n",
            "  *  \n",
            "  *  \n",
            "  *  \n",
            "  *  \n"
          ]
        }
      ]
    },
    {
      "cell_type": "code",
      "source": [
        "for y in range(0,5):\n",
        "  if y==4:\n",
        "    print(\"* * *\")\n",
        "  else:\n",
        "    print(\"*   *\")"
      ],
      "metadata": {
        "colab": {
          "base_uri": "https://localhost:8080/"
        },
        "id": "YG8rSWHz2K4q",
        "outputId": "28de595c-f7b8-44f9-9322-143011f90293"
      },
      "execution_count": 57,
      "outputs": [
        {
          "output_type": "stream",
          "name": "stdout",
          "text": [
            "*   *\n",
            "*   *\n",
            "*   *\n",
            "*   *\n",
            "* * *\n"
          ]
        }
      ]
    },
    {
      "cell_type": "code",
      "source": [
        "for y in range(0,3):\n",
        "  if y==0 :\n",
        "    print(\"*   *\")\n",
        "  elif y==1:\n",
        "    print(\" * *\")\n",
        "  else:\n",
        "    print(\"  *   \")"
      ],
      "metadata": {
        "colab": {
          "base_uri": "https://localhost:8080/"
        },
        "id": "36bHejfM209X",
        "outputId": "93e96600-4cd9-4d4a-9c17-3982fd87bd06"
      },
      "execution_count": 62,
      "outputs": [
        {
          "output_type": "stream",
          "name": "stdout",
          "text": [
            "*   *\n",
            " * *\n",
            "  *   \n"
          ]
        }
      ]
    },
    {
      "cell_type": "code",
      "source": [
        "for y in range(0,3):\n",
        "  if y==0 :\n",
        "    print(\"*   *    *\")\n",
        "  elif y==1:\n",
        "    print(\" * *  * *\")\n",
        "  else:\n",
        "    print(\"  *    * \")"
      ],
      "metadata": {
        "colab": {
          "base_uri": "https://localhost:8080/"
        },
        "id": "lOm9XeS43aX6",
        "outputId": "892fc6ed-a993-4d8b-8708-d5cc92306e5c"
      },
      "execution_count": 67,
      "outputs": [
        {
          "output_type": "stream",
          "name": "stdout",
          "text": [
            "*   *    *\n",
            " * *  * *\n",
            "  *    * \n"
          ]
        }
      ]
    },
    {
      "cell_type": "code",
      "source": [
        "for y in range(0,3):\n",
        "  if y==0 or y==2:\n",
        "    print(\"*   *   \")\n",
        "  else:\n",
        "    print(\"  *  \")"
      ],
      "metadata": {
        "colab": {
          "base_uri": "https://localhost:8080/"
        },
        "id": "2s1B2quF4KC1",
        "outputId": "7062e5e0-0e37-496b-d16f-cabb799fa404"
      },
      "execution_count": 78,
      "outputs": [
        {
          "output_type": "stream",
          "name": "stdout",
          "text": [
            "*   *   \n",
            "  *  \n",
            "*   *   \n"
          ]
        }
      ]
    },
    {
      "cell_type": "code",
      "source": [
        "for y in range(0,3):\n",
        "  if y==0 :\n",
        "    print(\"  *   *\")\n",
        "  elif y==1:\n",
        "    print(\"    * \")\n",
        "  else:\n",
        "    print(\"  * \")"
      ],
      "metadata": {
        "colab": {
          "base_uri": "https://localhost:8080/"
        },
        "id": "SupOaSeP5VVT",
        "outputId": "005ec97a-2306-43a9-c862-02b0637afdc8"
      },
      "execution_count": 75,
      "outputs": [
        {
          "output_type": "stream",
          "name": "stdout",
          "text": [
            "  *   *\n",
            "    * \n",
            "  * \n"
          ]
        }
      ]
    },
    {
      "cell_type": "code",
      "source": [
        "for y in range(0,5):\n",
        "  if y==0 or y==4:\n",
        "    print(\"*   *   *\")\n",
        "  elif y==2:\n",
        "    print(\"    *    \")\n",
        "  elif y==1:\n",
        "    print(\"      *  \")\n",
        "  else:\n",
        "    print(\"  *\")"
      ],
      "metadata": {
        "colab": {
          "base_uri": "https://localhost:8080/"
        },
        "id": "afmuofEY7QNf",
        "outputId": "e11b6302-d25a-4d7b-80e8-1af3c9adc8b3"
      },
      "execution_count": 80,
      "outputs": [
        {
          "output_type": "stream",
          "name": "stdout",
          "text": [
            "*   *   *\n",
            "      *  \n",
            "    *    \n",
            "  *\n",
            "*   *   *\n"
          ]
        }
      ]
    }
  ]
}
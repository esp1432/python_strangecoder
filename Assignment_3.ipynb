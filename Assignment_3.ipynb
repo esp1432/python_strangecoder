{
  "nbformat": 4,
  "nbformat_minor": 0,
  "metadata": {
    "colab": {
      "provenance": []
    },
    "kernelspec": {
      "name": "python3",
      "display_name": "Python 3"
    },
    "language_info": {
      "name": "python"
    }
  },
  "cells": [
    {
      "cell_type": "code",
      "execution_count": null,
      "metadata": {
        "colab": {
          "base_uri": "https://localhost:8080/"
        },
        "id": "9DXUeWxNtMTN",
        "outputId": "9b370dd7-c98e-4d8b-dd7e-f75571996f37"
      },
      "outputs": [
        {
          "output_type": "stream",
          "name": "stdout",
          "text": [
            "0\n",
            "1\n",
            "2\n",
            "4\n",
            "5\n"
          ]
        }
      ],
      "source": [
        "#Write a Python program that prints all the numbers from 0 to 6 except 3 and 6\n",
        "x=0\n",
        "while x<=6:\n",
        "  if x%3!=0 or x==0:\n",
        "    print(x)\n",
        "  x=x+1"
      ]
    },
    {
      "cell_type": "code",
      "source": [
        "#Write a program to accept a number from a user and calculate the sum of all numbers from 1 to a given number\n",
        "x=int(input(\"Enter a number: \"))\n",
        "y=1\n",
        "sum=0\n",
        "while y<=x:\n",
        "  sum=sum+y\n",
        "  y=y+1\n",
        "print(sum)"
      ],
      "metadata": {
        "colab": {
          "base_uri": "https://localhost:8080/"
        },
        "id": "qIQSnDbSItGn",
        "outputId": "cc46e55a-fef2-4457-e0fd-f2f69b89dc40"
      },
      "execution_count": 4,
      "outputs": [
        {
          "output_type": "stream",
          "name": "stdout",
          "text": [
            "Enter a number: 5\n",
            "15\n"
          ]
        }
      ]
    },
    {
      "cell_type": "code",
      "source": [
        "#Write a program to print multiplication table of a given number(input)\n",
        "x=int(input(\"Enter a number: \"))\n",
        "y=1\n",
        "print(\"The multiplication table of {} : \".format(x))\n",
        "while y<=20:\n",
        "  print(\"{}*{}={}\".format(x,y,x*y))\n",
        "  y=y+1"
      ],
      "metadata": {
        "id": "q7b_vA0Budbw",
        "colab": {
          "base_uri": "https://localhost:8080/"
        },
        "outputId": "4473bf23-aa7f-4586-80b4-ee77a1417d05"
      },
      "execution_count": 2,
      "outputs": [
        {
          "output_type": "stream",
          "name": "stdout",
          "text": [
            "Enter a number: 5\n",
            "The multiplication table of 5 : \n",
            "5*1=5\n",
            "5*2=10\n",
            "5*3=15\n",
            "5*4=20\n",
            "5*5=25\n",
            "5*6=30\n",
            "5*7=35\n",
            "5*8=40\n",
            "5*9=45\n",
            "5*10=50\n",
            "5*11=55\n",
            "5*12=60\n",
            "5*13=65\n",
            "5*14=70\n",
            "5*15=75\n",
            "5*16=80\n",
            "5*17=85\n",
            "5*18=90\n",
            "5*19=95\n",
            "5*20=100\n"
          ]
        }
      ]
    },
    {
      "cell_type": "code",
      "source": [
        "#Write a program to count the total number of digits in a number using a while loop.\n",
        "num =input(\"Enter a number: \")\n",
        "print(len(str(num)))"
      ],
      "metadata": {
        "colab": {
          "base_uri": "https://localhost:8080/"
        },
        "id": "0TjNQCycOqN0",
        "outputId": "32167296-faf7-4522-8c44-a0fea38ad8ab"
      },
      "execution_count": 12,
      "outputs": [
        {
          "output_type": "stream",
          "name": "stdout",
          "text": [
            "Enter a number: 12343235323456\n",
            "14\n"
          ]
        }
      ]
    }
  ]
}
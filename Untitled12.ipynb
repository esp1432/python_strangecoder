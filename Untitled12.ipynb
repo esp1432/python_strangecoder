{
  "nbformat": 4,
  "nbformat_minor": 0,
  "metadata": {
    "colab": {
      "provenance": [],
      "toc_visible": true
    },
    "kernelspec": {
      "name": "python3",
      "display_name": "Python 3"
    },
    "language_info": {
      "name": "python"
    }
  },
  "cells": [
    {
      "cell_type": "code",
      "execution_count": 2,
      "metadata": {
        "colab": {
          "base_uri": "https://localhost:8080/",
          "height": 36
        },
        "id": "zODzidJTWZ_4",
        "outputId": "5f082807-2568-4d5f-b8a3-508bbd202315"
      },
      "outputs": [
        {
          "output_type": "execute_result",
          "data": {
            "text/plain": [
              "'python'"
            ],
            "application/vnd.google.colaboratory.intrinsic+json": {
              "type": "string"
            }
          },
          "metadata": {},
          "execution_count": 2
        }
      ],
      "source": [
        "#Question 1\n",
        "x=\"PYTHON\"\n",
        "x.lower()"
      ]
    },
    {
      "cell_type": "code",
      "source": [
        "#Question 6\n",
        "name=input(\"enter your name\")\n",
        "age=int(input(\"enterb your age\"))\n",
        "pno=int(input(\"enter ypor phone number\"))\n",
        "fname=input(\"enter your fathers name\")\n",
        "mname=input(\"enter your mothers name\")\n",
        "bio_data=\"My name is {},My age is {},My phone number is {},my fathers name is {},my mothers name is {}\"\n",
        "bio_data.format(name,age,pno,fname,mname)"
      ],
      "metadata": {
        "colab": {
          "base_uri": "https://localhost:8080/",
          "height": 126
        },
        "id": "NzRasi1RdAff",
        "outputId": "43c19466-f8cd-4089-b639-e39b23dfe975"
      },
      "execution_count": 4,
      "outputs": [
        {
          "name": "stdout",
          "output_type": "stream",
          "text": [
            "enter your namesam\n",
            "enterb your age21\n",
            "enter ypor phone number8383553783\n",
            "enter your fathers nameDanayaa\n",
            "enter your mothers nameYellama\n"
          ]
        },
        {
          "output_type": "execute_result",
          "data": {
            "text/plain": [
              "'My name is sam,My age is 21,My phone number is 8383553783,my fathers name is Danayaa,my mothers name is Yellama'"
            ],
            "application/vnd.google.colaboratory.intrinsic+json": {
              "type": "string"
            }
          },
          "metadata": {},
          "execution_count": 4
        }
      ]
    },
    {
      "cell_type": "code",
      "source": [
        "#Question 7\n",
        "x=\"d@gj@hjk@tyj\"\n",
        "x.count(\"@\")"
      ],
      "metadata": {
        "colab": {
          "base_uri": "https://localhost:8080/"
        },
        "id": "Ub-_nObcfr5s",
        "outputId": "e9d8b44f-d18d-4d82-c894-de7be76a21e8"
      },
      "execution_count": 5,
      "outputs": [
        {
          "output_type": "execute_result",
          "data": {
            "text/plain": [
              "3"
            ]
          },
          "metadata": {},
          "execution_count": 5
        }
      ]
    }
  ]
}